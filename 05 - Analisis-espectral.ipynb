{
 "cells": [
  {
   "cell_type": "markdown",
   "id": "9815c127-4045-4ff6-be83-fc57d1b45f22",
   "metadata": {},
   "source": [
    "### Ajuste de modelos\n",
    "\n",
    "* A partir de las transformaciones propuestas ajustar distintos modelos (S)ARIMA. Extraer orden, parámetros, coeficientes numéricos y análisis de la bondad del modelo.\n",
    "* Ajustar y predecir usando redes neuronales LSTM.\n",
    "* Comparar con predicciones usando SARIMA y extraer conclusiones.\n",
    "* **Realizar el análisis espectral de la serie original. Hallar las frecuencias principales y comparar con las componentes cíclica y estacional usando la descomposición.**"
   ]
  },
  {
   "cell_type": "code",
   "execution_count": 1,
   "id": "50d66524-3189-476f-8a8d-cbf0d99c7fc6",
   "metadata": {},
   "outputs": [],
   "source": [
    "from imports import *\n",
    "\n",
    "from utils import process_file\n",
    "from scipy.signal import periodogram\n",
    "\n",
    "#matplotlib widget"
   ]
  },
  {
   "cell_type": "code",
   "execution_count": 2,
   "id": "0dabf87c-93b9-45de-b03f-4b88a23ce5a3",
   "metadata": {},
   "outputs": [],
   "source": [
    "warnings.filterwarnings(\"ignore\")"
   ]
  },
  {
   "cell_type": "markdown",
   "id": "f5a8ae54-177a-4096-b29b-17c15890bbb4",
   "metadata": {},
   "source": [
    "#### Cargamos dataset ya preprocesado"
   ]
  },
  {
   "cell_type": "code",
   "execution_count": null,
   "id": "83b871c1-c1a4-48b3-9226-daa22c3221bb",
   "metadata": {},
   "outputs": [],
   "source": [
    "bicis_data = process_file()\n",
    "type(bicis_data)"
   ]
  },
  {
   "cell_type": "code",
   "execution_count": null,
   "id": "e456a23a-c3e7-45e8-8c58-3a89e588af72",
   "metadata": {},
   "outputs": [],
   "source": [
    "plt.figure(figsize=(15, 4))\n",
    "plt.plot(bicis_data)"
   ]
  },
  {
   "cell_type": "markdown",
   "id": "081a95f7-6611-4cd1-8f2d-793a502836d4",
   "metadata": {},
   "source": [
    "####  Periodograma sobre la serie original"
   ]
  },
  {
   "cell_type": "code",
   "execution_count": null,
   "id": "4e8a0c82-2794-41af-a159-bee1d411b51c",
   "metadata": {},
   "outputs": [],
   "source": [
    "frequencies, power_spectrum = periodogram(bicis_data)\n",
    "\n",
    "plt.figure(figsize=(14, 3))\n",
    "plt.plot(frequencies, power_spectrum)\n",
    "plt.xlabel('Frequency')\n",
    "plt.ylabel('Power Spectral Density')\n",
    "plt.title('Periodograma')\n",
    "plt.show()"
   ]
  },
  {
   "cell_type": "markdown",
   "id": "865ffcdd-5cf2-4972-80b7-5c8c5f040a9c",
   "metadata": {},
   "source": [
    "#### Periodograma sobre la serie diferenciada"
   ]
  },
  {
   "cell_type": "code",
   "execution_count": null,
   "id": "d06082a2-74c5-4ac4-8bba-059b16739187",
   "metadata": {},
   "outputs": [],
   "source": [
    "# Diferencio la serie y computo periodograma\n",
    "\n",
    "fs = 1#.0\n",
    "bicis_diff = bicis_data.diff().dropna()\n",
    "frequencies, power_spectrum = periodogram(bicis_diff, fs)\n",
    "\n",
    "plt.figure(figsize=(14, 3))\n",
    "plt.plot(frequencies, power_spectrum)\n",
    "plt.xlabel('Frequency')\n",
    "plt.ylabel('Power Spectral Density')\n",
    "plt.title('Periodograma de la serie diferenciada')\n",
    "plt.show()\n"
   ]
  },
  {
   "cell_type": "markdown",
   "id": "541ee77e-7eea-4ce0-9119-72f8b02cb138",
   "metadata": {},
   "source": [
    "#### Periodograma sobre la serie sin la tendencia (detrend)"
   ]
  },
  {
   "cell_type": "code",
   "execution_count": null,
   "id": "04ea3e8b-2d32-4e25-b760-33e9c8e82566",
   "metadata": {},
   "outputs": [],
   "source": [
    "from scipy.signal import detrend\n",
    "detrended_data = detrend(bicis_data, type='linear')\n"
   ]
  },
  {
   "cell_type": "code",
   "execution_count": null,
   "id": "fc7d3ca6-fef4-4d7a-9ec5-f0e7babfff87",
   "metadata": {},
   "outputs": [],
   "source": [
    "\n",
    "fs = 1\n",
    "frequencies, power_spectrum = periodogram(detrended_data, fs)\n",
    "\n",
    "plt.figure(figsize=(14, 3))\n",
    "plt.plot(frequencies, power_spectrum)\n",
    "plt.xlabel('Frequency')\n",
    "plt.ylabel('Power Spectral Density')\n",
    "plt.title('Periodograma de la serie sin tendencia')\n",
    "plt.show()"
   ]
  },
  {
   "cell_type": "markdown",
   "id": "ce72ecbf-db46-49b1-a730-c65f4063f8c5",
   "metadata": {},
   "source": [
    "#### Observaciones\n",
    "\n",
    "Se puede observar el piso de ruido y una componente marcada en la frecuencia 0.14 que puede interpretarse como la frecuencia semanal. \n",
    "Si consideramos que frecuencia = 1/periodo y como ya hemos visto en la PACF que el periodo es 7, tiene sentido que predomine el componente ciclico al haberle extraido la tendencia a la serie.\n"
   ]
  },
  {
   "cell_type": "code",
   "execution_count": null,
   "id": "1732b303-d113-4d57-aee1-65442dfa310a",
   "metadata": {},
   "outputs": [],
   "source": [
    "decomposition = seasonal_decompose(bicis_data, model='additive', period=28)\n",
    "\n",
    "plt.figure(figsize=(9, 7))\n",
    "\n",
    "plt.subplot(4, 1, 1)\n",
    "plt.plot(decomposition.trend)\n",
    "plt.title('Tendencia')\n",
    "\n",
    "plt.subplot(4, 1, 2)\n",
    "plt.plot(decomposition.seasonal)\n",
    "plt.title('Estacionalidad')\n",
    "\n",
    "plt.subplot(4, 1, 3)\n",
    "plt.plot(decomposition.resid)\n",
    "plt.title('Residuos')\n",
    "\n",
    "plt.subplot(4, 1, 4)\n",
    "plt.plot(decomposition.observed)\n",
    "plt.title('Observado')\n",
    "\n",
    "plt.tight_layout()\n",
    "plt.show()"
   ]
  }
 ],
 "metadata": {
  "kernelspec": {
   "display_name": "obesity_risk",
   "language": "python",
   "name": "obesity_risk"
  },
  "language_info": {
   "codemirror_mode": {
    "name": "ipython",
    "version": 3
   },
   "file_extension": ".py",
   "mimetype": "text/x-python",
   "name": "python",
   "nbconvert_exporter": "python",
   "pygments_lexer": "ipython3",
   "version": "3.11.7"
  }
 },
 "nbformat": 4,
 "nbformat_minor": 5
}
