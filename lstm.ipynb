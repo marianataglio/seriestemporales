{
 "cells": [
  {
   "cell_type": "code",
   "execution_count": 1,
   "id": "01924283-0022-4ffd-a6ad-eda20aa1b569",
   "metadata": {},
   "outputs": [],
   "source": [
    "import pandas as pd\n",
    "import numpy as np\n",
    "import matplotlib.pyplot as plt\n",
    "from datetime import datetime, timedelta\n",
    "from IPython.display import HTML\n",
    "from statsmodels.tsa.seasonal import seasonal_decompose\n",
    "from statsmodels.tsa.stattools import adfuller\n",
    "from statsmodels.graphics.tsaplots import plot_acf\n",
    "from statsmodels.tsa.stattools import pacf\n",
    "from scipy.optimize import curve_fit\n",
    "import statsmodels.api as sm\n",
    "from statsmodels.graphics.tsaplots import plot_pacf\n",
    "from statsmodels.tsa.arima.model import ARIMA\n",
    "from statsmodels.tsa.ar_model import AutoReg\n",
    "from time import time\n",
    "from sklearn.metrics import mean_squared_error\n",
    "from math import sqrt\n",
    "import warnings\n",
    "import torch\n"
   ]
  },
  {
   "cell_type": "code",
   "execution_count": 2,
   "id": "dccfdbca-305a-4321-bcc2-9dfc0b44bbe4",
   "metadata": {},
   "outputs": [],
   "source": [
    "warnings.filterwarnings(\"ignore\")"
   ]
  },
  {
   "cell_type": "code",
   "execution_count": 3,
   "id": "8c57b3a2-ef81-4320-99cb-3da5bff6aebc",
   "metadata": {},
   "outputs": [
    {
     "data": {
      "text/plain": [
       "1457509"
      ]
     },
     "execution_count": 3,
     "metadata": {},
     "output_type": "execute_result"
    }
   ],
   "source": [
    "df = pd.read_csv('./Datasets/recorridos-realizados-2018.csv', encoding='latin-1')\n",
    "len(df)"
   ]
  },
  {
   "cell_type": "code",
   "execution_count": 4,
   "id": "6ac5c713-b33a-41df-a51f-fc7ab46756f0",
   "metadata": {},
   "outputs": [],
   "source": [
    "# Convertir fecha_hora_retiro a datetime\n",
    "\n",
    "df.bici_Fecha_hora_retiro = df.bici_Fecha_hora_retiro.apply(lambda x: datetime.strptime(x, '%d/%m/%Y %H:%M:%S'))\n",
    "df['date'] = df.bici_Fecha_hora_retiro.apply(lambda x: x.replace(minute=0, second=0))"
   ]
  },
  {
   "cell_type": "code",
   "execution_count": 5,
   "id": "26b42e56-696f-4289-8b96-eb6c707cd9a4",
   "metadata": {},
   "outputs": [],
   "source": [
    "#limpieza de datos\n",
    "\n",
    "fecha_limite = pd.to_datetime('2016-08-01 00:00:00')\n",
    "df_shorten = df[df['date'] >= fecha_limite].copy()\n",
    "bicis_por_dia = df_shorten.groupby('date').bici_id_usuario.count().resample('D').sum()"
   ]
  },
  {
   "cell_type": "code",
   "execution_count": 6,
   "id": "cfc23f74-03f8-4f13-a0c3-240ee923a3b1",
   "metadata": {},
   "outputs": [],
   "source": [
    "# Obtengo minutos de alquiler de bici\n",
    "\n",
    "parse_duration = lambda duration_str: timedelta(\n",
    "    hours=int(duration_str.split(':')[0]),\n",
    "    minutes=int(duration_str.split(':')[1]) if len(duration_str.split(':')) >=2 else 0,\n",
    "    seconds=int(duration_str.split(':')[2]) if len(duration_str.split(':')) >=3 else 0\n",
    ")\n",
    "\n",
    "df_shorten['bici_tiempo_uso_delta'] = df_shorten['bici_tiempo_uso'].apply(lambda x: parse_duration(x))\n",
    "df_shorten['total_minutes'] = df_shorten['bici_tiempo_uso_delta'].dt.total_seconds() / 60"
   ]
  },
  {
   "cell_type": "code",
   "execution_count": 7,
   "id": "7b1433e4-3752-4fa5-8bb4-ac7e509b23af",
   "metadata": {},
   "outputs": [],
   "source": [
    "df_trimmed = df_shorten[df_shorten['date'] <= pd.to_datetime('2017-12-01 23:59:59')].copy()\n",
    "bicis_por_dia_trimmed = df_trimmed.groupby('date').bici_id_usuario.count().resample('D').sum()"
   ]
  },
  {
   "cell_type": "markdown",
   "id": "6ff4236b-1928-469a-b645-6148b1ddbfdb",
   "metadata": {},
   "source": [
    "## LSTM "
   ]
  },
  {
   "cell_type": "code",
   "execution_count": 8,
   "id": "53a3d4ff-8ed4-441d-92d9-ee5e7e06de0b",
   "metadata": {},
   "outputs": [],
   "source": [
    "X = bicis_por_dia_trimmed\n",
    "#size = int(len(X) * 0.66)\n",
    "#train, test = X[0:size], X[size:len(X)]\n",
    "X = pd.DataFrame(X)\n",
    "X = X.reset_index()"
   ]
  },
  {
   "cell_type": "code",
   "execution_count": 39,
   "id": "5b3a753e-ff95-4644-bd9e-466dae77ba4f",
   "metadata": {},
   "outputs": [],
   "source": [
    "timeseries = X['bici_id_usuario'].values.astype('float32')\n",
    "#plt.plot(timeseries)\n",
    "#plt.xticks(rotation=45)\n",
    "#plt.show()\n",
    "timeseries = timeseries.reshape(-1, 1)\n"
   ]
  },
  {
   "cell_type": "code",
   "execution_count": 58,
   "id": "b20912a8-2070-41f2-9e46-7612937aef26",
   "metadata": {},
   "outputs": [],
   "source": [
    "# train-test split for time series\n",
    "train_size = int(len(timeseries) * 0.67)\n",
    "test_size = len(timeseries) - train_size\n",
    "train, test = timeseries[:train_size], timeseries[train_size:]"
   ]
  },
  {
   "cell_type": "code",
   "execution_count": 59,
   "id": "66be02c7-837b-4d7e-a9fb-e36654a59430",
   "metadata": {},
   "outputs": [
    {
     "data": {
      "text/plain": [
       "dtype('float32')"
      ]
     },
     "execution_count": 59,
     "metadata": {},
     "output_type": "execute_result"
    }
   ],
   "source": [
    "train.dtype"
   ]
  },
  {
   "cell_type": "code",
   "execution_count": 92,
   "id": "b536e904-21cc-4a6a-bbb6-32819cdaeb29",
   "metadata": {},
   "outputs": [],
   "source": [
    "import torch\n",
    "from torch.utils.data import IterableDataset, DataLoader\n",
    "\n",
    "class TimeSeriesDataset(IterableDataset):\n",
    "    def __init__(self, data, sequence_length):\n",
    "        self.data = data\n",
    "        self.sequence_length = sequence_length\n",
    "\n",
    "    def __iter__(self):\n",
    "        return iter(self.generate_sequences())\n",
    "\n",
    "    def generate_sequences(self):\n",
    "        for i in range(len(self.data) - self.sequence_length + 1):\n",
    "            yield self.data[i:i + self.sequence_length]\n",
    " \n",
    "    def __len__(self):\n",
    "            return len(self.data) - self.sequence_length + 1"
   ]
  },
  {
   "cell_type": "code",
   "execution_count": 93,
   "id": "c1d74ddc-cd88-42f3-9718-e4a27709714e",
   "metadata": {},
   "outputs": [],
   "source": [
    "\n",
    "# Define sequence length\n",
    "sequence_length = 7\n",
    "\n",
    "# Create IterableDataset instances for train and test datasets\n",
    "train_dataset = TimeSeriesDataset(train, sequence_length)\n",
    "test_dataset = TimeSeriesDataset(test, sequence_length)\n",
    "\n",
    "# Create DataLoader instances for train and test datasets\n",
    "train_dataloader = DataLoader(train_dataset, batch_size=1)\n",
    "test_dataloader = DataLoader(test_dataset, batch_size=1)\n"
   ]
  },
  {
   "cell_type": "code",
   "execution_count": 94,
   "id": "3a9915c8-d984-4a5c-9c9c-50a7debf5493",
   "metadata": {},
   "outputs": [
    {
     "data": {
      "text/plain": [
       "array([[1077.],\n",
       "       [1233.],\n",
       "       [1249.],\n",
       "       [1348.],\n",
       "       [1008.],\n",
       "       [ 811.],\n",
       "       [ 804.],\n",
       "       [ 962.]], dtype=float32)"
      ]
     },
     "execution_count": 94,
     "metadata": {},
     "output_type": "execute_result"
    }
   ],
   "source": [
    "train[:8]"
   ]
  },
  {
   "cell_type": "code",
   "execution_count": 81,
   "id": "9552e2e5-a986-4997-b109-d232ab271758",
   "metadata": {},
   "outputs": [
    {
     "name": "stdout",
     "output_type": "stream",
     "text": [
      "tensor([[[1077.],\n",
      "         [1233.],\n",
      "         [1249.],\n",
      "         [1348.],\n",
      "         [1008.],\n",
      "         [ 811.],\n",
      "         [ 804.]]])\n"
     ]
    }
   ],
   "source": [
    "first_batch = next(iter(train_dataloader))\n",
    "print(first_batch)"
   ]
  },
  {
   "cell_type": "code",
   "execution_count": 86,
   "id": "7aad4f69-a476-4d78-8f43-60958f9ed697",
   "metadata": {},
   "outputs": [
    {
     "data": {
      "text/plain": [
       "tensor([[[1077.],\n",
       "         [1233.],\n",
       "         [1249.],\n",
       "         [1348.],\n",
       "         [1008.],\n",
       "         [ 811.]]])"
      ]
     },
     "execution_count": 86,
     "metadata": {},
     "output_type": "execute_result"
    }
   ],
   "source": [
    "input = first_batch[:, :-1]\n",
    "input"
   ]
  },
  {
   "cell_type": "code",
   "execution_count": 88,
   "id": "5eb1973e-a602-463c-8d57-6891f9f259c6",
   "metadata": {},
   "outputs": [
    {
     "data": {
      "text/plain": [
       "tensor([[[1233.],\n",
       "         [1249.],\n",
       "         [1348.],\n",
       "         [1008.],\n",
       "         [ 811.],\n",
       "         [ 804.]]])"
      ]
     },
     "execution_count": 88,
     "metadata": {},
     "output_type": "execute_result"
    }
   ],
   "source": [
    "target = first_batch[:, 1:]   # Predict all but the first time step\n",
    "target"
   ]
  },
  {
   "cell_type": "code",
   "execution_count": 95,
   "id": "60f119ad-e9eb-4974-8210-8c0f888a6a02",
   "metadata": {},
   "outputs": [
    {
     "data": {
      "text/plain": [
       "320"
      ]
     },
     "execution_count": 95,
     "metadata": {},
     "output_type": "execute_result"
    }
   ],
   "source": [
    "len(train_dataloader)"
   ]
  },
  {
   "cell_type": "code",
   "execution_count": 84,
   "id": "892f6e4a-82d9-430f-b4a2-a3cc3fe579d9",
   "metadata": {},
   "outputs": [],
   "source": [
    "#for batch in train_dataloader:\n",
    "#    print(batch.size())  # Assuming each data point in the batch is represented as a tensor\n",
    "#torch.Size([1, 7, 1])\n",
    "#one sequence, seven time steps, one feature (batch, sequence, number of features)"
   ]
  },
  {
   "cell_type": "code",
   "execution_count": 96,
   "id": "d7693a0d-46e7-4694-b9ad-20be652f1643",
   "metadata": {},
   "outputs": [
    {
     "name": "stdout",
     "output_type": "stream",
     "text": [
      "Epoch [1/10], Average Loss: 1529481.159424\n",
      "Epoch [2/10], Average Loss: 600362.298706\n",
      "Epoch [3/10], Average Loss: 389657.902014\n",
      "Epoch [4/10], Average Loss: 363113.031201\n",
      "Epoch [5/10], Average Loss: 364219.956091\n",
      "Epoch [6/10], Average Loss: 365800.976746\n",
      "Epoch [7/10], Average Loss: 366446.025415\n",
      "Epoch [8/10], Average Loss: 366738.931323\n",
      "Epoch [9/10], Average Loss: 366916.708362\n",
      "Epoch [10/10], Average Loss: 367043.165955\n"
     ]
    }
   ],
   "source": [
    "import torch\n",
    "import torch.nn as nn\n",
    "import torch.optim as optim\n",
    "from torch.utils.data import IterableDataset, DataLoader\n",
    "\n",
    "class LSTMModel(nn.Module):\n",
    "    def __init__(self, input_size, hidden_size, output_size, num_layers=1):\n",
    "        super(LSTMModel, self).__init__()\n",
    "        self.hidden_size = hidden_size\n",
    "        self.num_layers = num_layers\n",
    "        self.lstm = nn.LSTM(input_size, hidden_size, num_layers, batch_first=True)\n",
    "        self.fc = nn.Linear(hidden_size, output_size)\n",
    "\n",
    "    def forward(self, x):\n",
    "        # Check input dimensions\n",
    "        assert x.dim() == 3, \"Input tensor must have 3 dimensions (batch_size, sequence_length, input_size)\"\n",
    "        # Initialize hidden state\n",
    "        batch_size = x.size(0)\n",
    "        h0 = torch.zeros(self.num_layers, batch_size, self.hidden_size).to(x.device)\n",
    "        c0 = torch.zeros(self.num_layers, batch_size, self.hidden_size).to(x.device)\n",
    "        # Forward pass through LSTM\n",
    "        out, _ = self.lstm(x, (h0, c0))\n",
    "        # Take the output of the last time step and pass it through the linear layer\n",
    "        out = self.fc(out[:, -1, :])\n",
    "        return out\n",
    "\n",
    "\n",
    "# Define hyperparameters\n",
    "input_size = 1  # Assuming univariate time series\n",
    "hidden_size = 50\n",
    "output_size = 1\n",
    "learning_rate = 0.1\n",
    "num_epochs = 10\n",
    "\n",
    "# Instantiate the model\n",
    "model = LSTMModel(input_size, hidden_size, output_size)\n",
    "\n",
    "# Define loss function and optimizer\n",
    "criterion = nn.MSELoss()\n",
    "optimizer = optim.Adam(model.parameters(), lr=learning_rate)\n",
    "\n",
    "# Training loop\n",
    "for epoch in range(num_epochs):\n",
    "    model.train()\n",
    "    total_loss = 0\n",
    "    for batch in train_dataloader:\n",
    "        # Reshape batch to match the expected input shape (batch_size, sequence_length, input_size)\n",
    "        batch = batch.float()  # Convert batch to float\n",
    "        # Create input and target sequences for auto-regressive prediction\n",
    "        input_seq = batch[:, :-1]  # Use all but the last time step as input\n",
    "        target_seq = batch[:, 1:]   # Predict all but the first time step\n",
    "        # Forward pass\n",
    "        output = model(input_seq)\n",
    "        # Compute loss\n",
    "        loss = criterion(output, target_seq)\n",
    "        total_loss += loss.item()\n",
    "        # Backward pass and optimization\n",
    "        optimizer.zero_grad()\n",
    "        loss.backward()\n",
    "        optimizer.step()\n",
    "    # Print average loss for the epoch\n",
    "    print(f'Epoch [{epoch+1}/{num_epochs}], Average Loss: {total_loss / len(train_dataloader):.6f}')\n",
    "\n",
    "\n"
   ]
  },
  {
   "cell_type": "code",
   "execution_count": null,
   "id": "82267e0a-c60a-4a86-a6cd-8ae52415ca7c",
   "metadata": {},
   "outputs": [],
   "source": []
  },
  {
   "cell_type": "code",
   "execution_count": null,
   "id": "25a08a6b-91bb-4a1a-99cf-ff017053a995",
   "metadata": {},
   "outputs": [],
   "source": []
  },
  {
   "cell_type": "code",
   "execution_count": null,
   "id": "7a9cd502-74de-4e55-ab1d-f7dc594255e0",
   "metadata": {},
   "outputs": [],
   "source": [
    "\n",
    "# Now you can iterate over the dataloader in your training loop\n",
    "for batch in train_dataloader:\n",
    "    # Create a separate stream for each position in the batch\n",
    "    batch_streams = zip(*batch)\n",
    "    for position_stream in batch_streams:\n",
    "        # Process each position stream as a separate sequence\n",
    "        # Example: train your LSTM model on each position stream\n",
    "        pass"
   ]
  },
  {
   "cell_type": "code",
   "execution_count": null,
   "id": "a5f4e259-2c73-465d-8ee5-ba228310b68c",
   "metadata": {},
   "outputs": [],
   "source": []
  },
  {
   "cell_type": "code",
   "execution_count": null,
   "id": "6ca10d7e-eaf4-4a87-a42b-cfc462ba20b9",
   "metadata": {},
   "outputs": [],
   "source": []
  },
  {
   "cell_type": "markdown",
   "id": "4a55312d-56f4-49cb-9394-949386ba9a10",
   "metadata": {},
   "source": [
    "### Iterable dataset solution"
   ]
  },
  {
   "cell_type": "code",
   "execution_count": 42,
   "id": "e1c59ae7-bee9-44ce-a8ad-8214216c5ee4",
   "metadata": {},
   "outputs": [],
   "source": [
    "import torch.optim as optim\n",
    "import torch.utils.data as data\n",
    "from torch.utils.data import DataLoader, IterableDataset\n",
    "from itertools import islice\n",
    "\n",
    "import random \n",
    "from itertools import chain, cycle\n",
    "\n",
    "class MyIterableDataset(IterableDataset):\n",
    "  def __init__(self, data, batch_size):\n",
    "    #super(MyIterableDataset, self).__init__()\n",
    "    self.data = data\n",
    "    self.batch_size = batch_size\n",
    "\n",
    "  @property\n",
    "  def shuffled_data_list(self):\n",
    "    #import random\n",
    "    return random.sample(self.data, len(self.data))  # Shuffle the data list\n",
    "\n",
    "  def process_data(self, data):\n",
    "    for x in data:\n",
    "      yield x  # Yield each data point\n",
    "\n",
    "  def get_stream(self, data):\n",
    "    return chain.from_iterable(map(self.process_data, cycle(data)))  # Create a stream from data list\n",
    "\n",
    "  def get_streams(self):\n",
    "    return zip(*[self.get_stream(self.shuffled_data_list) for _ in range(self.batch_size)])\n",
    "      \n",
    "  def __iter__(self):\n",
    "    return self.get_streams()\n"
   ]
  },
  {
   "cell_type": "code",
   "execution_count": 43,
   "id": "8fbadafb-8500-4e0e-8761-1888bf89e07b",
   "metadata": {},
   "outputs": [],
   "source": [
    "test = list(test)\n",
    "train = list(train)"
   ]
  },
  {
   "cell_type": "code",
   "execution_count": 44,
   "id": "1a30ca35-029d-4148-b6e5-49fbc4008a3b",
   "metadata": {},
   "outputs": [
    {
     "name": "stdout",
     "output_type": "stream",
     "text": [
      "(651.0, 1806.0, 2228.0, 1479.0)\n",
      "(2283.0, 872.0, 1622.0, 1077.0)\n",
      "(1205.0, 638.0, 2381.0, 1205.0)\n"
     ]
    }
   ],
   "source": [
    "import torch.optim as optim\n",
    "import torch.utils.data as data\n",
    "from torch.utils.data import DataLoader\n",
    "from itertools import islice\n",
    "import torch.nn as nn\n",
    "\n",
    "\n",
    "# Separate datasets for train and test\n",
    "train_dataset = MyIterableDataset(train, batch_size=4)\n",
    "test_dataset = MyIterableDataset(test, batch_size=4)\n",
    "\n",
    "# Separate dataloaders for train and test \n",
    "\n",
    "#train_dataloader = DataLoader(train_dataset, batch_size=None, shuffle=False)\n",
    "#test_dataloader = DataLoader(test_dataset, batch_size=None, shuffle=False)\n",
    "\n",
    "for batch in islice(train_dataset, 3):\n",
    "    print(batch)"
   ]
  },
  {
   "cell_type": "code",
   "execution_count": 46,
   "id": "78bdc703-2a03-4f73-a093-612628d2fb68",
   "metadata": {},
   "outputs": [
    {
     "ename": "AttributeError",
     "evalue": "'numpy.ndarray' object has no attribute 'dim'",
     "output_type": "error",
     "traceback": [
      "\u001b[0;31m---------------------------------------------------------------------------\u001b[0m",
      "\u001b[0;31mAttributeError\u001b[0m                            Traceback (most recent call last)",
      "Cell \u001b[0;32mIn[46], line 38\u001b[0m\n\u001b[1;32m     35\u001b[0m optimizer\u001b[38;5;241m.\u001b[39mzero_grad()\n\u001b[1;32m     37\u001b[0m \u001b[38;5;66;03m# Forward pass\u001b[39;00m\n\u001b[0;32m---> 38\u001b[0m predictions \u001b[38;5;241m=\u001b[39m \u001b[43mmodel\u001b[49m\u001b[43m(\u001b[49m\u001b[43minputs\u001b[49m\u001b[43m)\u001b[49m\n\u001b[1;32m     40\u001b[0m \u001b[38;5;66;03m# Calculate loss\u001b[39;00m\n\u001b[1;32m     41\u001b[0m loss \u001b[38;5;241m=\u001b[39m loss_fn(predictions, inputs)  \u001b[38;5;66;03m# Assuming labels are the same as inputs\u001b[39;00m\n",
      "File \u001b[0;32m~/miniconda3/envs/obesity_risk/lib/python3.11/site-packages/torch/nn/modules/module.py:1511\u001b[0m, in \u001b[0;36mModule._wrapped_call_impl\u001b[0;34m(self, *args, **kwargs)\u001b[0m\n\u001b[1;32m   1509\u001b[0m     \u001b[38;5;28;01mreturn\u001b[39;00m \u001b[38;5;28mself\u001b[39m\u001b[38;5;241m.\u001b[39m_compiled_call_impl(\u001b[38;5;241m*\u001b[39margs, \u001b[38;5;241m*\u001b[39m\u001b[38;5;241m*\u001b[39mkwargs)  \u001b[38;5;66;03m# type: ignore[misc]\u001b[39;00m\n\u001b[1;32m   1510\u001b[0m \u001b[38;5;28;01melse\u001b[39;00m:\n\u001b[0;32m-> 1511\u001b[0m     \u001b[38;5;28;01mreturn\u001b[39;00m \u001b[38;5;28;43mself\u001b[39;49m\u001b[38;5;241;43m.\u001b[39;49m\u001b[43m_call_impl\u001b[49m\u001b[43m(\u001b[49m\u001b[38;5;241;43m*\u001b[39;49m\u001b[43margs\u001b[49m\u001b[43m,\u001b[49m\u001b[43m \u001b[49m\u001b[38;5;241;43m*\u001b[39;49m\u001b[38;5;241;43m*\u001b[39;49m\u001b[43mkwargs\u001b[49m\u001b[43m)\u001b[49m\n",
      "File \u001b[0;32m~/miniconda3/envs/obesity_risk/lib/python3.11/site-packages/torch/nn/modules/module.py:1520\u001b[0m, in \u001b[0;36mModule._call_impl\u001b[0;34m(self, *args, **kwargs)\u001b[0m\n\u001b[1;32m   1515\u001b[0m \u001b[38;5;66;03m# If we don't have any hooks, we want to skip the rest of the logic in\u001b[39;00m\n\u001b[1;32m   1516\u001b[0m \u001b[38;5;66;03m# this function, and just call forward.\u001b[39;00m\n\u001b[1;32m   1517\u001b[0m \u001b[38;5;28;01mif\u001b[39;00m \u001b[38;5;129;01mnot\u001b[39;00m (\u001b[38;5;28mself\u001b[39m\u001b[38;5;241m.\u001b[39m_backward_hooks \u001b[38;5;129;01mor\u001b[39;00m \u001b[38;5;28mself\u001b[39m\u001b[38;5;241m.\u001b[39m_backward_pre_hooks \u001b[38;5;129;01mor\u001b[39;00m \u001b[38;5;28mself\u001b[39m\u001b[38;5;241m.\u001b[39m_forward_hooks \u001b[38;5;129;01mor\u001b[39;00m \u001b[38;5;28mself\u001b[39m\u001b[38;5;241m.\u001b[39m_forward_pre_hooks\n\u001b[1;32m   1518\u001b[0m         \u001b[38;5;129;01mor\u001b[39;00m _global_backward_pre_hooks \u001b[38;5;129;01mor\u001b[39;00m _global_backward_hooks\n\u001b[1;32m   1519\u001b[0m         \u001b[38;5;129;01mor\u001b[39;00m _global_forward_hooks \u001b[38;5;129;01mor\u001b[39;00m _global_forward_pre_hooks):\n\u001b[0;32m-> 1520\u001b[0m     \u001b[38;5;28;01mreturn\u001b[39;00m \u001b[43mforward_call\u001b[49m\u001b[43m(\u001b[49m\u001b[38;5;241;43m*\u001b[39;49m\u001b[43margs\u001b[49m\u001b[43m,\u001b[49m\u001b[43m \u001b[49m\u001b[38;5;241;43m*\u001b[39;49m\u001b[38;5;241;43m*\u001b[39;49m\u001b[43mkwargs\u001b[49m\u001b[43m)\u001b[49m\n\u001b[1;32m   1522\u001b[0m \u001b[38;5;28;01mtry\u001b[39;00m:\n\u001b[1;32m   1523\u001b[0m     result \u001b[38;5;241m=\u001b[39m \u001b[38;5;28;01mNone\u001b[39;00m\n",
      "Cell \u001b[0;32mIn[46], line 10\u001b[0m, in \u001b[0;36mLSTMModel.forward\u001b[0;34m(self, x)\u001b[0m\n\u001b[1;32m      8\u001b[0m \u001b[38;5;28;01mdef\u001b[39;00m \u001b[38;5;21mforward\u001b[39m(\u001b[38;5;28mself\u001b[39m, x):\n\u001b[1;32m      9\u001b[0m   \u001b[38;5;66;03m# Pass data through LSTM layers\u001b[39;00m\n\u001b[0;32m---> 10\u001b[0m   lstm_out, _ \u001b[38;5;241m=\u001b[39m \u001b[38;5;28;43mself\u001b[39;49m\u001b[38;5;241;43m.\u001b[39;49m\u001b[43mlstm\u001b[49m\u001b[43m(\u001b[49m\u001b[43mx\u001b[49m\u001b[43m)\u001b[49m\n\u001b[1;32m     11\u001b[0m   \u001b[38;5;66;03m# Get the last output from the sequence (assuming batch_first=True)\u001b[39;00m\n\u001b[1;32m     12\u001b[0m   out \u001b[38;5;241m=\u001b[39m lstm_out[:, \u001b[38;5;241m-\u001b[39m\u001b[38;5;241m1\u001b[39m, :]\n",
      "File \u001b[0;32m~/miniconda3/envs/obesity_risk/lib/python3.11/site-packages/torch/nn/modules/module.py:1511\u001b[0m, in \u001b[0;36mModule._wrapped_call_impl\u001b[0;34m(self, *args, **kwargs)\u001b[0m\n\u001b[1;32m   1509\u001b[0m     \u001b[38;5;28;01mreturn\u001b[39;00m \u001b[38;5;28mself\u001b[39m\u001b[38;5;241m.\u001b[39m_compiled_call_impl(\u001b[38;5;241m*\u001b[39margs, \u001b[38;5;241m*\u001b[39m\u001b[38;5;241m*\u001b[39mkwargs)  \u001b[38;5;66;03m# type: ignore[misc]\u001b[39;00m\n\u001b[1;32m   1510\u001b[0m \u001b[38;5;28;01melse\u001b[39;00m:\n\u001b[0;32m-> 1511\u001b[0m     \u001b[38;5;28;01mreturn\u001b[39;00m \u001b[38;5;28;43mself\u001b[39;49m\u001b[38;5;241;43m.\u001b[39;49m\u001b[43m_call_impl\u001b[49m\u001b[43m(\u001b[49m\u001b[38;5;241;43m*\u001b[39;49m\u001b[43margs\u001b[49m\u001b[43m,\u001b[49m\u001b[43m \u001b[49m\u001b[38;5;241;43m*\u001b[39;49m\u001b[38;5;241;43m*\u001b[39;49m\u001b[43mkwargs\u001b[49m\u001b[43m)\u001b[49m\n",
      "File \u001b[0;32m~/miniconda3/envs/obesity_risk/lib/python3.11/site-packages/torch/nn/modules/module.py:1520\u001b[0m, in \u001b[0;36mModule._call_impl\u001b[0;34m(self, *args, **kwargs)\u001b[0m\n\u001b[1;32m   1515\u001b[0m \u001b[38;5;66;03m# If we don't have any hooks, we want to skip the rest of the logic in\u001b[39;00m\n\u001b[1;32m   1516\u001b[0m \u001b[38;5;66;03m# this function, and just call forward.\u001b[39;00m\n\u001b[1;32m   1517\u001b[0m \u001b[38;5;28;01mif\u001b[39;00m \u001b[38;5;129;01mnot\u001b[39;00m (\u001b[38;5;28mself\u001b[39m\u001b[38;5;241m.\u001b[39m_backward_hooks \u001b[38;5;129;01mor\u001b[39;00m \u001b[38;5;28mself\u001b[39m\u001b[38;5;241m.\u001b[39m_backward_pre_hooks \u001b[38;5;129;01mor\u001b[39;00m \u001b[38;5;28mself\u001b[39m\u001b[38;5;241m.\u001b[39m_forward_hooks \u001b[38;5;129;01mor\u001b[39;00m \u001b[38;5;28mself\u001b[39m\u001b[38;5;241m.\u001b[39m_forward_pre_hooks\n\u001b[1;32m   1518\u001b[0m         \u001b[38;5;129;01mor\u001b[39;00m _global_backward_pre_hooks \u001b[38;5;129;01mor\u001b[39;00m _global_backward_hooks\n\u001b[1;32m   1519\u001b[0m         \u001b[38;5;129;01mor\u001b[39;00m _global_forward_hooks \u001b[38;5;129;01mor\u001b[39;00m _global_forward_pre_hooks):\n\u001b[0;32m-> 1520\u001b[0m     \u001b[38;5;28;01mreturn\u001b[39;00m \u001b[43mforward_call\u001b[49m\u001b[43m(\u001b[49m\u001b[38;5;241;43m*\u001b[39;49m\u001b[43margs\u001b[49m\u001b[43m,\u001b[49m\u001b[43m \u001b[49m\u001b[38;5;241;43m*\u001b[39;49m\u001b[38;5;241;43m*\u001b[39;49m\u001b[43mkwargs\u001b[49m\u001b[43m)\u001b[49m\n\u001b[1;32m   1522\u001b[0m \u001b[38;5;28;01mtry\u001b[39;00m:\n\u001b[1;32m   1523\u001b[0m     result \u001b[38;5;241m=\u001b[39m \u001b[38;5;28;01mNone\u001b[39;00m\n",
      "File \u001b[0;32m~/miniconda3/envs/obesity_risk/lib/python3.11/site-packages/torch/nn/modules/rnn.py:843\u001b[0m, in \u001b[0;36mLSTM.forward\u001b[0;34m(self, input, hx)\u001b[0m\n\u001b[1;32m    841\u001b[0m         hx \u001b[38;5;241m=\u001b[39m \u001b[38;5;28mself\u001b[39m\u001b[38;5;241m.\u001b[39mpermute_hidden(hx, sorted_indices)\n\u001b[1;32m    842\u001b[0m \u001b[38;5;28;01melse\u001b[39;00m:\n\u001b[0;32m--> 843\u001b[0m     \u001b[38;5;28;01mif\u001b[39;00m \u001b[38;5;28;43minput\u001b[39;49m\u001b[38;5;241;43m.\u001b[39;49m\u001b[43mdim\u001b[49m() \u001b[38;5;129;01mnot\u001b[39;00m \u001b[38;5;129;01min\u001b[39;00m (\u001b[38;5;241m2\u001b[39m, \u001b[38;5;241m3\u001b[39m):\n\u001b[1;32m    844\u001b[0m         \u001b[38;5;28;01mraise\u001b[39;00m \u001b[38;5;167;01mValueError\u001b[39;00m(\u001b[38;5;124mf\u001b[39m\u001b[38;5;124m\"\u001b[39m\u001b[38;5;124mLSTM: Expected input to be 2D or 3D, got \u001b[39m\u001b[38;5;132;01m{\u001b[39;00m\u001b[38;5;28minput\u001b[39m\u001b[38;5;241m.\u001b[39mdim()\u001b[38;5;132;01m}\u001b[39;00m\u001b[38;5;124mD instead\u001b[39m\u001b[38;5;124m\"\u001b[39m)\n\u001b[1;32m    845\u001b[0m     is_batched \u001b[38;5;241m=\u001b[39m \u001b[38;5;28minput\u001b[39m\u001b[38;5;241m.\u001b[39mdim() \u001b[38;5;241m==\u001b[39m \u001b[38;5;241m3\u001b[39m\n",
      "\u001b[0;31mAttributeError\u001b[0m: 'numpy.ndarray' object has no attribute 'dim'"
     ]
    }
   ],
   "source": [
    "# Define the LSTM model\n",
    "class LSTMModel(nn.Module):\n",
    "  def __init__(self, input_size, hidden_size, num_layers, batch_first):\n",
    "    super(LSTMModel, self).__init__()\n",
    "    self.lstm = nn.LSTM(input_size, hidden_size, num_layers, batch_first=batch_first)\n",
    "    self.linear = nn.Linear(hidden_size, 1)  # Output layer for single prediction\n",
    "\n",
    "  def forward(self, x):\n",
    "    # Pass data through LSTM layers\n",
    "    lstm_out, _ = self.lstm(x)\n",
    "    # Get the last output from the sequence (assuming batch_first=True)\n",
    "    out = lstm_out[:, -1, :]\n",
    "    # Pass through linear layer for prediction\n",
    "    prediction = self.linear(out)\n",
    "    return prediction\n",
    "\n",
    "# Define hyperparameters\n",
    "input_size = 1\n",
    "hidden_size = 50\n",
    "num_layers = 1\n",
    "batch_first = True\n",
    "\n",
    "# Create the model\n",
    "model = LSTMModel(input_size, hidden_size, num_layers, batch_first)\n",
    "\n",
    "# Define optimizer and loss function\n",
    "optimizer = torch.optim.Adam(model.parameters(), lr=0.1)\n",
    "loss_fn = nn.MSELoss()  # Mean Squared Error loss\n",
    "\n",
    "\n",
    "# Training loop (replace with your actual training data)\n",
    "for epoch in range(10):  # Train for 10 epochs (adjust as needed)\n",
    "  for inputs in train:  # Assuming your data has labels (modify if not)\n",
    "    # Clear gradients\n",
    "    optimizer.zero_grad()\n",
    "\n",
    "    # Forward pass\n",
    "    predictions = model(inputs)\n",
    "\n",
    "    # Calculate loss\n",
    "    loss = loss_fn(predictions, inputs)  # Assuming labels are the same as inputs\n",
    "\n",
    "    # Backward pass and update weights\n",
    "    loss.backward()\n",
    "    optimizer.step()\n",
    "\n",
    "    # Print training progress (optional)\n",
    "    print(f'Epoch [{epoch+1}/{10}], Loss: {loss.item():.4f}')\n"
   ]
  },
  {
   "cell_type": "code",
   "execution_count": null,
   "id": "10da35c8-13ef-49d0-baba-e72f005c87ff",
   "metadata": {},
   "outputs": [],
   "source": [
    "\n",
    "# After training, you can use the model for prediction\n",
    "new_input = torch.tensor([6])  # Example input for prediction\n",
    "prediction = model(new_input)\n",
    "print(f'Prediction for input {new_input.item()}: {prediction.item():.4f}')"
   ]
  },
  {
   "cell_type": "code",
   "execution_count": null,
   "id": "63b3cd5a-f3a2-4818-b169-6ed204402604",
   "metadata": {},
   "outputs": [],
   "source": [
    "import random\n",
    "from itertools import islice\n",
    "import math\n",
    "\n",
    "class MyIterableDataset(torch.utils.data.IterableDataset):\n",
    "  def __init__(self, data_list, batch_size=1):\n",
    "    super(MyIterableDataset, self).__init__()\n",
    "    self.data_list = data_list\n",
    "    self.batch_size = batch_size\n",
    "\n",
    "  @property\n",
    "  def shuffled_data_list(self):\n",
    "    import random\n",
    "    return random.sample(self.data_list, len(self.data_list))  # Shuffle the data list\n",
    "\n",
    "  def process_data(self, data_list):\n",
    "    for data in data_list:\n",
    "      yield data  # Yield each data point\n",
    "\n",
    "  def get_stream(self, data_list):\n",
    "    return self.process_data(data_list)  # Create a stream from data list\n",
    "\n",
    "  def get_streams(self, num_batches):\n",
    "    streams = []\n",
    "    for _ in range(num_batches):\n",
    "      streams.append(self.get_stream(self.shuffled_data_list))  # Generate streams\n",
    "    return streams\n",
    "\n",
    "  def __iter__(self):\n",
    "    worker_info = torch.utils.data.get_worker_info()\n",
    "    if worker_info is None:\n",
    "      # Single-process data loading\n",
    "      for stream in self.get_streams(int(math.ceil(len(self.data_list) / self.batch_size))):\n",
    "        for data in stream:\n",
    "          yield data\n",
    "    else:\n",
    "      # Distributed data loading\n",
    "      per_worker = int(math.ceil((len(self.data_list) - self.batch_size) / float(worker_info.num_workers)))\n",
    "      worker_id = worker_info.id\n",
    "      start_idx = worker_id * per_worker\n",
    "      end_idx = min(start_idx + per_worker + self.batch_size, len(self.data_list))\n",
    "      for data in self.process_data(self.data_list[start_idx:end_idx]):\n",
    "        yield data"
   ]
  },
  {
   "cell_type": "code",
   "execution_count": 68,
   "id": "cce2df9d-8308-43b0-b65e-29da457f8bb2",
   "metadata": {},
   "outputs": [
    {
     "name": "stderr",
     "output_type": "stream",
     "text": [
      "UsageError: Cell magic `%%` not found.\n"
     ]
    }
   ],
   "source": [
    "%% script True \n",
    "import random \n",
    "\n",
    "class MyIterableDataset(IterableDataset):\n",
    "  def __init__(self, data_list, batch_size):\n",
    "    #super(MyIterableDataset, self).__init__()\n",
    "    self.data_list = data_list\n",
    "    self.batch_size = batch_size\n",
    "\n",
    "  @property\n",
    "  def shuffled_data_list(self):\n",
    "    #import random\n",
    "    return random.sample(self.data_list, len(self.data_list))  # Shuffle the data list\n",
    "\n",
    "  def process_data(self, data):\n",
    "    for x in data_list:\n",
    "      yield x  # Yield each data point\n",
    "\n",
    "  def get_stream(self, data_list):\n",
    "    return chain.from_iterable(map(self.process_data, cycle(data_list)))  # Create a stream from data list\n",
    "\n",
    "  def get_streams(self):\n",
    "    return zip(*[self.get_stream(self.shuffled_data_list) for _ in range(self.batch_size)])\n",
    "      \n",
    "      \n",
    "  def __iter__(self):\n",
    "    return self.get_streams()\n"
   ]
  },
  {
   "cell_type": "code",
   "execution_count": null,
   "id": "b0a677ce-6c30-4722-82ee-24c9ca9b348a",
   "metadata": {},
   "outputs": [],
   "source": []
  },
  {
   "cell_type": "code",
   "execution_count": null,
   "id": "2ee623e3-cd8e-43d4-8c18-7e29ff600484",
   "metadata": {},
   "outputs": [],
   "source": []
  },
  {
   "cell_type": "code",
   "execution_count": null,
   "id": "ac31b771-b1cc-4127-a336-6a6a2556b644",
   "metadata": {},
   "outputs": [],
   "source": []
  },
  {
   "cell_type": "code",
   "execution_count": null,
   "id": "83f89df1-3567-4a43-b0e7-34ce4b245f7a",
   "metadata": {},
   "outputs": [],
   "source": []
  },
  {
   "cell_type": "markdown",
   "id": "385b2bbf-e83a-40c7-a735-31e957a44a17",
   "metadata": {},
   "source": [
    "### Normal dataset (not iterable)"
   ]
  },
  {
   "cell_type": "code",
   "execution_count": 11,
   "id": "3712edd2-3677-49a8-8228-137484f9502b",
   "metadata": {},
   "outputs": [],
   "source": [
    "import torch\n",
    "\n",
    "def create_dataset(dataset, lookback):\n",
    "    \"\"\"Transform a time series into a prediction dataset\n",
    "    \n",
    "    Args:\n",
    "        dataset: A numpy array of time series, first dimension is the time steps\n",
    "        lookback: Size of window for prediction\n",
    "    \"\"\"\n",
    "    X, y = [], []\n",
    "    for i in range(len(dataset)-lookback):\n",
    "        feature = dataset[i:i+lookback]  # Extract the feature window\n",
    "        target = dataset[i+1:i+lookback+1]  # Extract the target window (shifted by 1 step)\n",
    "        X.append(feature)\n",
    "        y.append(target)\n",
    "    # Convert lists to PyTorch tensors\n",
    "    X = torch.tensor(X, dtype=torch.float32)\n",
    "    y = torch.tensor(y, dtype=torch.float32)\n",
    "    # Reshape y to add an extra dimension\n",
    "    #y = y.unsqueeze(-1)\n",
    "    #X = X.unsqueeze(-1)\n",
    "    return X, y\n"
   ]
  },
  {
   "cell_type": "code",
   "execution_count": 12,
   "id": "96af0108-e3fa-45db-b3c8-786424827428",
   "metadata": {},
   "outputs": [
    {
     "data": {
      "text/plain": [
       "(326, 1)"
      ]
     },
     "execution_count": 12,
     "metadata": {},
     "output_type": "execute_result"
    }
   ],
   "source": [
    "train.shape"
   ]
  },
  {
   "cell_type": "code",
   "execution_count": 13,
   "id": "968efe24-d239-4c4b-a829-670006a71076",
   "metadata": {},
   "outputs": [
    {
     "name": "stdout",
     "output_type": "stream",
     "text": [
      "torch.Size([312, 14, 1]) torch.Size([312, 14, 1])\n",
      "torch.Size([148, 14, 1]) torch.Size([148, 14, 1])\n"
     ]
    }
   ],
   "source": [
    "#window\n",
    "\n",
    "lookback=14\n",
    "X_train, y_train = create_dataset(train, lookback=lookback)\n",
    "X_test, y_test = create_dataset(test, lookback=lookback)\n",
    "\n",
    "print(X_train.shape,  y_train.shape)\n",
    "print(X_test.shape, y_test.shape)"
   ]
  },
  {
   "cell_type": "code",
   "execution_count": 14,
   "id": "a5e3dbd3-f2b3-496d-9dcf-abb934c5b783",
   "metadata": {},
   "outputs": [],
   "source": [
    "import torch.nn as nn\n",
    "\n",
    "class BikePredModel(nn.Module):\n",
    "    def __init__(self):\n",
    "        super().__init__()\n",
    "        self.lstm = nn.LSTM(input_size=1, hidden_size=50, num_layers=1, batch_first=True)\n",
    "        self.linear = nn.Linear(50,1)\n",
    "\n",
    "    def forward(self, x):\n",
    "        x, _ = self.lstm(x)\n",
    "        x = self.linear(x)\n",
    "        return x"
   ]
  },
  {
   "cell_type": "code",
   "execution_count": 15,
   "id": "2bd50eea-dd8a-4698-80b1-5a3283209b87",
   "metadata": {},
   "outputs": [],
   "source": [
    "import torch.optim as optim\n",
    "import torch.utils.data as data\n",
    "\n",
    "model = BikePredModel()\n",
    "optimizer = optim.Adam(model.parameters(), lr=0.5)\n",
    "loss_fn = nn.MSELoss()\n",
    "#loss_fn = nn.HuberLoss()\n",
    "loader = data.DataLoader(data.TensorDataset(X_train, y_train), shuffle=True, batch_size=64, drop_last=True)"
   ]
  },
  {
   "cell_type": "code",
   "execution_count": 16,
   "id": "22dca377-e8bf-47cc-893e-956d9bf3c7da",
   "metadata": {},
   "outputs": [],
   "source": [
    "from sklearn.preprocessing import MinMaxScaler\n",
    "scaler_x = MinMaxScaler()\n",
    "X_train = torch.tensor(scaler_x.fit_transform(X_train.squeeze().numpy())[:,:,None])\n",
    "X_test = torch.tensor(scaler_x.transform(X_test.squeeze().numpy())[:,:,None])\n",
    "\n",
    "# crear otro scaler\n",
    "scaler_y = MinMaxScaler()\n",
    "y_train = torch.tensor(scaler_y.fit_transform(y_train.squeeze().numpy())[:,:,None])\n",
    "y_test = torch.tensor(scaler_y.transform(y_test.squeeze().numpy())[:,:,None])\n",
    "\n",
    "\n",
    "#X_test = torch.tensor(scaler.transform(X_test.squeeze().numpy())[:,:,None])"
   ]
  },
  {
   "cell_type": "code",
   "execution_count": 18,
   "id": "9df506b0-9e07-4500-8de6-2f8101bba6b3",
   "metadata": {},
   "outputs": [
    {
     "name": "stdout",
     "output_type": "stream",
     "text": [
      "Epoch 0: train RMSE 641.1044, test RMSE 2117112.0135\n",
      "Epoch 0: train loss 411014.8125, test loss 4482163277824.0000\n",
      "Epoch 100: train RMSE 643.1830, test RMSE 2121550.0775\n",
      "Epoch 100: train loss 413684.4062, test loss 4500974731264.0000\n",
      "Epoch 200: train RMSE 641.9696, test RMSE 2114562.6034\n",
      "Epoch 200: train loss 412125.0000, test loss 4471375003648.0000\n",
      "Epoch 300: train RMSE 652.5851, test RMSE 2145899.3206\n",
      "Epoch 300: train loss 425867.3750, test loss 4604883894272.0000\n",
      "Epoch 400: train RMSE 652.6410, test RMSE 2141772.3152\n",
      "Epoch 400: train loss 425940.2500, test loss 4587188649984.0000\n",
      "Epoch 500: train RMSE 666.7122, test RMSE 2183111.5640\n",
      "Epoch 500: train loss 444505.0938, test loss 4765976100864.0000\n",
      "Epoch 600: train RMSE 674.5162, test RMSE 2203012.9048\n",
      "Epoch 600: train loss 454972.1250, test loss 4853265858560.0000\n",
      "Epoch 700: train RMSE 681.5019, test RMSE 2219522.7755\n",
      "Epoch 700: train loss 464444.7812, test loss 4926281351168.0000\n",
      "Epoch 800: train RMSE 694.5385, test RMSE 2255370.9839\n",
      "Epoch 800: train loss 482383.7500, test loss 5086698274816.0000\n",
      "Epoch 900: train RMSE 699.4383, test RMSE 2263734.2211\n",
      "Epoch 900: train loss 489213.9375, test loss 5124492623872.0000\n"
     ]
    }
   ],
   "source": [
    "\n",
    "# Set random seed for reproducibility\n",
    "torch.manual_seed(42)\n",
    "np.random.seed(42)\n",
    "\n",
    "train_loss = []\n",
    "test_loss = []\n",
    "train_rmse = []\n",
    "test_rmse = []\n",
    "gradient_norm = []\n",
    "\n",
    "n_epochs = 1000\n",
    "for epoch in range(n_epochs):\n",
    "    model.train()\n",
    "    for X_batch, y_batch in loader:\n",
    "        y_pred = model(X_batch)\n",
    "        loss = loss_fn(y_pred, y_batch)\n",
    "        optimizer.zero_grad()\n",
    "        loss.backward()\n",
    "        optimizer.step()\n",
    "    \n",
    "    if epoch % 100 != 0:\n",
    "        continue\n",
    "    \n",
    "    model.eval()\n",
    "    with torch.no_grad():\n",
    "        y_pred_train = model(X_train)\n",
    "        train_loss.append(loss_fn(y_pred_train, y_train).item())\n",
    "        train_rmse.append(np.sqrt(loss_fn(y_pred_train, y_train).item()))\n",
    "\n",
    "        ## pruebo haciendo inverse transform\n",
    "        \n",
    "        \n",
    "        y_pred_test = model(X_test)\n",
    "        y_pred_test_inv = torch.tensor(scaler_y.inverse_transform(y_pred_test.squeeze().numpy())[:,:,None])\n",
    "        test_loss.append(loss_fn(y_pred_test_inv, y_test).item())\n",
    "        test_rmse.append(np.sqrt(loss_fn(y_pred_test_inv, y_test).item()))\n",
    "    \n",
    "    print(\"Epoch %d: train RMSE %.4f, test RMSE %.4f\" % (epoch, train_rmse[-1], test_rmse[-1]))\n",
    "    print(\"Epoch %d: train loss %.4f, test loss %.4f\" % (epoch, train_loss[-1], test_loss[-1]))\n"
   ]
  },
  {
   "cell_type": "markdown",
   "id": "dbe0e77c-63b5-43b0-9bdf-379ec48ffb45",
   "metadata": {},
   "source": [
    "### Plot loss, rmse and gradient norms"
   ]
  },
  {
   "cell_type": "code",
   "execution_count": 20,
   "id": "cad24f0c-b71c-4716-b905-e2f4fafd8501",
   "metadata": {},
   "outputs": [
    {
     "data": {
      "image/png": "[encoded data removed]",
      "text/plain": [
       "<Figure size 640x480 with 1 Axes>"
      ]
     },
     "metadata": {},
     "output_type": "display_data"
    }
   ],
   "source": [
    "epochs = range(0, n_epochs, 100)\n",
    "\n",
    "plt.plot(epochs, train_loss, label='Train Loss')\n",
    "plt.plot(epochs, test_loss, label='Test Loss')\n",
    "\n",
    "plt.title('Training and Test Loss over Epochs')\n",
    "plt.xlabel('Epochs')\n",
    "plt.ylabel('Loss')\n",
    "plt.legend()\n",
    "plt.grid(True)\n",
    "plt.show()"
   ]
  },
  {
   "cell_type": "code",
   "execution_count": 21,
   "id": "b5a957fc-9e76-4760-85a7-4bf883409663",
   "metadata": {},
   "outputs": [
    {
     "data": {
      "image/png": "[encoded data removed]",
      "text/plain": [
       "<Figure size 640x480 with 1 Axes>"
      ]
     },
     "metadata": {},
     "output_type": "display_data"
    }
   ],
   "source": [
    "with torch.no_grad():\n",
    "    # shift train predictions for plotting\n",
    "    train_plot = np.ones_like(timeseries)  * np.nan\n",
    "    y_pred = model(X_train)\n",
    "    y_pred = y_pred[:, -1, :]\n",
    "    train_plot[lookback:train_size] = model(X_train)[:, -1, :]\n",
    "  \n",
    "    # shift test predictions for plotting\n",
    "    test_plot = np.ones_like(timeseries) * np.nan\n",
    "    test_plot[train_size+lookback:len(timeseries)] = model(X_test)[:, -1, :]\n",
    "# plot\n",
    "plt.plot(timeseries, c='b')\n",
    "plt.plot(train_plot, c='r')\n",
    "plt.plot(test_plot, c='g')\n",
    "plt.show()"
   ]
  },
  {
   "cell_type": "code",
   "execution_count": null,
   "id": "9ea2c381-61ab-45f7-a5fb-62af6ccb45c3",
   "metadata": {},
   "outputs": [],
   "source": []
  }
 ],
 "metadata": {
  "kernelspec": {
   "display_name": "obesity_risk",
   "language": "python",
   "name": "obesity_risk"
  },
  "language_info": {
   "codemirror_mode": {
    "name": "ipython",
    "version": 3
   },
   "file_extension": ".py",
   "mimetype": "text/x-python",
   "name": "python",
   "nbconvert_exporter": "python",
   "pygments_lexer": "ipython3",
   "version": "3.11.7"
  }
 },
 "nbformat": 4,
 "nbformat_minor": 5
}
